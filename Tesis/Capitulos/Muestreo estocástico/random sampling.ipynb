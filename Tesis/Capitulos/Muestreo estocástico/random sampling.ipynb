{
 "cells": [
  {
   "cell_type": "markdown",
   "metadata": {},
   "source": [
    "Random Sampling"
   ]
  },
  {
   "cell_type": "code",
   "execution_count": 1,
   "metadata": {},
   "outputs": [
    {
     "name": "stdout",
     "output_type": "stream",
     "text": [
      "Using matplotlib backend: MacOSX\n",
      "Populating the interactive namespace from numpy and matplotlib\n"
     ]
    }
   ],
   "source": [
    "%pylab"
   ]
  },
  {
   "cell_type": "code",
   "execution_count": 2,
   "metadata": {},
   "outputs": [],
   "source": [
    "t=np.linspace(0,10*2*np.pi,1000)"
   ]
  },
  {
   "cell_type": "code",
   "execution_count": 3,
   "metadata": {},
   "outputs": [],
   "source": [
    "x1 = np.cos(2*np.pi*t)\n",
    "x2 = np.cos(2*np.pi*t*1.1)"
   ]
  },
  {
   "cell_type": "code",
   "execution_count": 47,
   "metadata": {},
   "outputs": [
    {
     "data": {
      "text/plain": [
       "[<matplotlib.lines.Line2D at 0x11b6cbdf0>,\n",
       " <matplotlib.lines.Line2D at 0x11b6cbd00>]"
      ]
     },
     "execution_count": 47,
     "metadata": {},
     "output_type": "execute_result"
    }
   ],
   "source": [
    "plt.plot(t,x1,t,x2)"
   ]
  },
  {
   "cell_type": "code",
   "execution_count": 10,
   "metadata": {},
   "outputs": [
    {
     "data": {
      "text/plain": [
       "[<matplotlib.lines.Line2D at 0x117de0340>]"
      ]
     },
     "execution_count": 10,
     "metadata": {},
     "output_type": "execute_result"
    }
   ],
   "source": [
    "plt.plot(t,x1*x2)"
   ]
  },
  {
   "cell_type": "code",
   "execution_count": 4,
   "metadata": {},
   "outputs": [],
   "source": [
    "Rxy = lambda x,y,N,mask: sum(x[mask][:N]*y[mask][:N])/N"
   ]
  },
  {
   "cell_type": "code",
   "execution_count": 23,
   "metadata": {},
   "outputs": [
    {
     "name": "stderr",
     "output_type": "stream",
     "text": [
      "<ipython-input-4-4002500c9b13>:1: RuntimeWarning: invalid value encountered in double_scalars\n",
      "  Rxy = lambda x,y,N,mask: sum(x[mask][:N]*y[mask][:N])/N\n",
      "<ipython-input-4-4002500c9b13>:1: RuntimeWarning: invalid value encountered in double_scalars\n",
      "  Rxy = lambda x,y,N,mask: sum(x[mask][:N]*y[mask][:N])/N\n",
      "<ipython-input-4-4002500c9b13>:1: RuntimeWarning: invalid value encountered in double_scalars\n",
      "  Rxy = lambda x,y,N,mask: sum(x[mask][:N]*y[mask][:N])/N\n",
      "<ipython-input-4-4002500c9b13>:1: RuntimeWarning: invalid value encountered in double_scalars\n",
      "  Rxy = lambda x,y,N,mask: sum(x[mask][:N]*y[mask][:N])/N\n"
     ]
    },
    {
     "data": {
      "text/plain": [
       "<matplotlib.legend.Legend at 0x11789f910>"
      ]
     },
     "execution_count": 23,
     "metadata": {},
     "output_type": "execute_result"
    }
   ],
   "source": [
    "for p in np.linspace(0.2,1,4):\n",
    "    mask = np.random.rand(len(t)) >= 1-p\n",
    "    R = [Rxy(x1,x2,N,mask) for N in range(len(mask))]\n",
    "    plt.plot(t,R,label='p= {p:.1f}'.format(p=p))\n",
    "plt.legend()"
   ]
  },
  {
   "cell_type": "code",
   "execution_count": 16,
   "metadata": {},
   "outputs": [
    {
     "name": "stdout",
     "output_type": "stream",
     "text": [
      "Warning: Cannot change to a different GUI toolkit: notebook. Using osx instead.\n"
     ]
    }
   ],
   "source": [
    "%matplotlib notebook"
   ]
  },
  {
   "cell_type": "code",
   "execution_count": 24,
   "metadata": {},
   "outputs": [],
   "source": [
    "plt.savefig('/Users/santiago/Desktop/Rxys.jpg',dpi=300)"
   ]
  },
  {
   "cell_type": "code",
   "execution_count": null,
   "metadata": {},
   "outputs": [],
   "source": []
  }
 ],
 "metadata": {
  "kernelspec": {
   "display_name": "Python 3",
   "language": "python",
   "name": "python3"
  },
  "language_info": {
   "codemirror_mode": {
    "name": "ipython",
    "version": 3
   },
   "file_extension": ".py",
   "mimetype": "text/x-python",
   "name": "python",
   "nbconvert_exporter": "python",
   "pygments_lexer": "ipython3",
   "version": "3.8.3"
  }
 },
 "nbformat": 4,
 "nbformat_minor": 4
}
