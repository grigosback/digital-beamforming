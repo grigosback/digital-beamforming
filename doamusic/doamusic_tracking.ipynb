{
 "nbformat": 4,
 "nbformat_minor": 2,
 "metadata": {
  "language_info": {
   "name": "python",
   "codemirror_mode": {
    "name": "ipython",
    "version": 3
   }
  },
  "orig_nbformat": 2,
  "file_extension": ".py",
  "mimetype": "text/x-python",
  "name": "python",
  "npconvert_exporter": "python",
  "pygments_lexer": "ipython3",
  "version": 3
 },
 "cells": [
  {
   "cell_type": "markdown",
   "execution_count": null,
   "metadata": {},
   "outputs": [],
   "source": [
    "# Librerías utilizadas"
   ]
  },
  {
   "cell_type": "code",
   "execution_count": 7,
   "metadata": {},
   "outputs": [
    {
     "name": "stdout",
     "output_type": "stream",
     "text": "Using matplotlib backend: Qt5Agg\nPopulating the interactive namespace from numpy and matplotlib\n"
    }
   ],
   "source": [
    "%pylab\n",
    "#pylab.rcParams['figure.figsize'] = (10, 6)\n",
    "style.use('default')"
   ]
  },
  {
   "cell_type": "markdown",
   "execution_count": null,
   "metadata": {},
   "outputs": [],
   "source": [
    "# Funciones"
   ]
  },
  {
   "cell_type": "code",
   "execution_count": 39,
   "metadata": {},
   "outputs": [],
   "source": [
    "def GaussianNoise(SNR,Ps,M,N):\n",
    "    \"\"\"\n",
    "    Recibe una potencia de señal Ps y una relación señal-ruido deseada\n",
    "    SNR y retorna un vector Nu correspondiente a muestras del ruido \n",
    "    blanco gaussiano a sumarle a la señal\n",
    "    \"\"\"\n",
    "    mean_W = 0\n",
    "    var_W = Ps/(10**(SNR/10))\n",
    "    std_W = np.sqrt(var_W)\n",
    "    W = np.asmatrix(np.random.normal(mean_W, std_W, size=(M,N)))\n",
    "    return (W)\n",
    "\n",
    "def print_matrix(list_of_list):\n",
    "    number_width = len(str(max([max(i) for i in list_of_list])))\n",
    "    cols = max(map(len, list_of_list))\n",
    "    output = '+'+('-'*(number_width+2)+'+')*cols + '\\n'\n",
    "    for row in list_of_list:\n",
    "        for column in row:\n",
    "            output += '|' + ' {:^{width}d} '.format(column, width = number_width)\n",
    "        output+='|\\n+'+('-'*(number_width+2)+'+')*cols + '\\n'\n",
    "    return output\n",
    "\n",
    "def plotanim(Data,X,step=0.02,ylim=[]):\n",
    "    plt.ion()\n",
    "    fig, ax = plt.subplots(1,1)\n",
    "    plt.ylim((10 ** -3, Data.max()))\n",
    "    plt.yscale('log')\n",
    "    line, = ax.plot(X,Data[:,0])\n",
    "    fig.canvas.draw()\n",
    "    for i in range(Data.shape[1]):\n",
    "        plt.pause(step)\n",
    "        line.set_ydata(Data[:,i])\n",
    "        fig.canvas.draw()\n",
    "    plt.ioff()\n",
    "\n",
    "def doamusic_samples(Fc,s_amp,s_freq,t,t0,d,theta,M,D,SNR):\n",
    "    # Definición de señales y muestras\n",
    "    # Genero la matriz F de tamaño (D,N)\n",
    "    lambda_c = c / Fc\n",
    "    K = 2 * np.pi / (lambda_c)\n",
    "    F = np.asmatrix(np.empty((D, N)))\n",
    "    for i in range(0, D):\n",
    "        F[i,:] = s_amp[i] * np.cos(2 * np.pi * s_freq[i] * (t+t0))\n",
    "\n",
    "    # Genero la matriz A de tamaño (M,D) considerando $g(\\theta)=1 \\quad \\forall \\  \\theta$\n",
    "    A = np.asmatrix(np.empty((M, D), dtype='complex'))\n",
    "    for i in range(0, M):\n",
    "        for j in range(0, D):\n",
    "            A[i, j] = np.e ** (-1j * i * K[j] * d * np.cos(theta[j]))\n",
    "\n",
    "    # Genero el vector W de tamaño (M,1,N) de ruido $W\\sim N(0,1)$\n",
    "    Ps = 0\n",
    "    for i in range(0,D):\n",
    "        Ps = Ps + (s_amp[i]**2)/2\n",
    "    W = GaussianNoise(SNR,Ps,M,N)\n",
    "\n",
    "    # Genero el vector de muestras $X=A \\times F + W$ de tamaño (M,N)\n",
    "    X = np.asmatrix(np.empty((M,N),dtype=complex))\n",
    "    X_matrix = np.asmatrix(np.empty((M,1)),dtype=complex)\n",
    "    for n in range (0,N):\n",
    "        F_matrix = F[:,n]\n",
    "        W_matrix = W[:,n]\n",
    "        X_matrix = A @ F_matrix + W_matrix\n",
    "        X[:, n] = X_matrix\n",
    "\n",
    "    return X\n",
    "\n",
    "def doamusic_estimation(X, K_est, theta_est):\n",
    "    M = X.shape[0]\n",
    "    N = X.shape[1]\n",
    "\n",
    "    #%% Calculo el vector de covarianza S\n",
    "    S = np.asmatrix(np.empty((M,M),dtype=complex))\n",
    "    for n in range (0,N):\n",
    "        X_matrix=np.asmatrix(X[:,n])\n",
    "        S = S + (1/N)*(X_matrix @ X_matrix.H)\n",
    "\n",
    "    # Encuentro autovalores y autovectores S y el autovalor mínimo $\\lambda_{min}$ tal que $|S-\\lambda_{min}\\cdot S_0|=0$\n",
    "    [aval, avec] = eig(S)\n",
    "    S0 = np.identity(M)\n",
    "    p = aval.argsort()\n",
    "    aval=np.abs(aval[p])\n",
    "    avec=avec[:,p]\n",
    "    aval_min = aval[0]\n",
    "\n",
    "    # Encuentro la multiplicidad Q de $\\lambda_min$ y el número estimado de señales $\\hat{D}$\n",
    "    Q = 0\n",
    "    umbral = 2 * aval_min\n",
    "    for i in range (0,M):\n",
    "        if aval[i]-aval_min<umbral:\n",
    "            Q += 1\n",
    "    D_est = M - Q\n",
    "\n",
    "    # Formo la matriz de subespacio de ruido $E_N$\n",
    "    EN = np.asmatrix(avec[:,0:Q])\n",
    "\n",
    "    #%% Evalúo la función $P_{MU}$ para distintas frecuencias de portadora y distintos ángulos de arribo\n",
    "    a = np.asmatrix(np.empty((M, 1), dtype=complex))\n",
    "    P_MU = np.empty((theta_est.size), dtype=complex)\n",
    "    for i in range(0, theta_est.size):\n",
    "        for k in range(0,M):\n",
    "            a[k] = np.e ** (-1j * k * K_est * d * np.cos(theta_est[i]))\n",
    "            P_MU[i] = 1 / (a.H @ EN @ EN.H @ a)      \n",
    "    return P_MU"
   ]
  },
  {
   "cell_type": "markdown",
   "execution_count": null,
   "metadata": {},
   "outputs": [],
   "source": [
    "# Definición de constantes y unidades"
   ]
  },
  {
   "cell_type": "code",
   "execution_count": 9,
   "metadata": {},
   "outputs": [],
   "source": [
    "kHz = 10 ** 3\n",
    "MHz = 10 ** 6\n",
    "GHz = 10 ** 9\n",
    "ms = 10 ** -3\n",
    "c = 3 * 10 ** 8\n",
    "km = 10 ** 3"
   ]
  },
  {
   "cell_type": "markdown",
   "execution_count": null,
   "metadata": {},
   "outputs": [],
   "source": [
    "# Definición de variables"
   ]
  },
  {
   "cell_type": "code",
   "execution_count": 45,
   "metadata": {},
   "outputs": [],
   "source": [
    "M = 8  # Número de sensores\n",
    "D = 1  # Número de señales\n",
    "N = 1000 # Número de snapshots\n",
    "\n",
    "fs = 64 * MHz\n",
    "\n",
    "T = 5 * ms # Tiempo de toma de muestras\n",
    "t0 = 0\n",
    "\n",
    "dist = 100  # Distancia en metros entre el emisor y la antena receptora\n",
    "Tx_time = np.linspace(0, 15, num=1000)  # Tiempo del tracking\n",
    "Tx_vel = 50 * km /3600 # Velocidad del transmisor en m/s\n",
    "Tx_x = -100 + Tx_vel*Tx_time # Posición x del transmisor\n",
    "Tx_y = 100  # Posición y del transmisor\n",
    "\n",
    "theta_deg = 90 + np.arctan(Tx_x / Tx_y)*180/np.pi  #DOA en grados\n",
    "theta = theta_deg * np.pi / 180         #DOA en radianes\n",
    "\n",
    "# Defición de señal y array de sensores\n",
    "Fc = np.array([436*MHz]) # Frecuencia de portadora de la señal transmitida 1\n",
    "lambda_c = c / Fc\n",
    "d = lambda_c[0] / 2  #Separación entre sensores\n",
    "\n",
    "s_amp = np.array([50])\n",
    "s_freq = np.array([440,1000,30000])\n",
    "\n",
    "SNR = 7\n",
    "t = np.random.randint(0, int(T * fs), size=N) * 1 / fs  # Vector de tiempos de muestreo (tomas de snapshots)\n"
   ]
  },
  {
   "cell_type": "code",
   "execution_count": 113,
   "metadata": {},
   "outputs": [],
   "source": [
    "theta_est = np.empty(N)\n",
    "Fc_est = (1 + (((rand(N)-0.5)/0.5) * 0.1)) * Fc\n",
    "\n",
    "# Primer estimación de ángulo\n",
    "K_est = 2 * np.pi * Fc_est/c\n",
    "theta_test = np.linspace(0, np.pi ,num=100)\n",
    "X = doamusic_samples(Fc, s_amp, s_freq, t,0, d, array([theta[0]]), M, D, SNR)\n",
    "P_MU = doamusic_estimation(X, K_est[0], theta_test)\n",
    "theta_est[0] = theta_test[where(P_MU==max(P_MU))]\n",
    "\n",
    "for i in range (1,N):\n",
    "    theta_test = np.linspace(0.9,1.1,num=20) * theta_est[i-1]\n",
    "    X = doamusic_samples(Fc, s_amp, s_freq, t,0, d, array([theta[i]]), M, D, SNR)\n",
    "    P_MU = doamusic_estimation(X, K_est[i], theta_test)\n",
    "    theta_est[i] = theta_test[where(P_MU==max(P_MU))]\n"
   ]
  },
  {
   "cell_type": "code",
   "execution_count": 116,
   "metadata": {},
   "outputs": [],
   "source": [
    "figure()\n",
    "plot(Tx_time,theta_est * 180 / np.pi)\n",
    "plot(Tx_time,theta_deg)\n",
    "xlabel('Tiempo de simulación [s]')\n",
    "ylabel('AOA [°]')\n",
    "show()"
   ]
  },
  {
   "cell_type": "code",
   "execution_count": null,
   "metadata": {},
   "outputs": [],
   "source": []
  }
 ]
}